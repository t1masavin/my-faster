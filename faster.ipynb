{
 "cells": [
  {
   "cell_type": "code",
   "execution_count": 1,
   "metadata": {},
   "outputs": [],
   "source": [
    "import torch\n",
    "from torch.functional import F"
   ]
  },
  {
   "cell_type": "code",
   "execution_count": 2,
   "metadata": {},
   "outputs": [
    {
     "data": {
      "text/plain": [
       "tensor([[[-0.8600,  0.3800,  0.6800, -0.6500],\n",
       "         [ 0.1700, -0.5100,  0.1000, -0.9800],\n",
       "         [ 0.6100, -0.3800, -0.1900,  0.0600],\n",
       "         [ 0.7100,  0.2200, -0.9700,  0.0500]],\n",
       "\n",
       "        [[ 0.2500, -0.5200, -0.9000, -0.9600],\n",
       "         [ 0.0600, -0.4600,  0.0700,  0.3300],\n",
       "         [ 0.4200, -0.9700,  0.6800,  0.4500],\n",
       "         [-0.5800,  0.4900,  0.5200, -0.5700]],\n",
       "\n",
       "        [[ 0.8700, -0.5300, -0.7700, -0.9100],\n",
       "         [-0.6000, -0.5600,  0.0400,  0.0600],\n",
       "         [-0.4400,  0.4000, -0.2300,  0.1600],\n",
       "         [ 0.0700, -0.3600,  0.0300, -0.7300]],\n",
       "\n",
       "        [[ 0.1100, -0.5100, -0.1600,  0.3200],\n",
       "         [-0.2300, -0.0100,  0.5200,  0.2600],\n",
       "         [-0.9800, -0.2600,  0.6200,  0.0000],\n",
       "         [ 0.7400, -0.5200, -0.5900, -0.9900]],\n",
       "\n",
       "        [[-0.4800, -0.7400, -0.8200,  0.6500],\n",
       "         [ 0.6300,  0.6900, -0.2000,  0.1300],\n",
       "         [-0.5100,  0.3400,  0.6900,  0.4200],\n",
       "         [-0.3700,  0.2600,  0.8600,  0.1500]],\n",
       "\n",
       "        [[-0.2700,  0.4200,  0.4900, -0.1400],\n",
       "         [-0.8400, -0.3400,  0.0400,  0.9600],\n",
       "         [-0.7000,  0.2100,  0.5400,  0.6300],\n",
       "         [ 0.4800, -0.6600, -0.9800, -0.5100]]])"
      ]
     },
     "execution_count": 2,
     "metadata": {},
     "output_type": "execute_result"
    }
   ],
   "source": [
    "tensor = torch.randint(-100, 100, (96, 1)).view(6, 4, 4)/ 100\n",
    "tensor"
   ]
  },
  {
   "cell_type": "code",
   "execution_count": 66,
   "metadata": {},
   "outputs": [
    {
     "data": {
      "text/plain": [
       "tensor([[[-0.7400, -0.9600, -0.7000, -0.5100],\n",
       "         [ 0.4100,  0.8100,  0.0400, -0.3000],\n",
       "         [-0.9400, -0.5700, -0.7100, -0.7400],\n",
       "         [ 0.1400,  0.0800,  0.8100,  0.1100],\n",
       "         [-0.1700,  0.8900, -0.8100, -0.6400],\n",
       "         [ 0.7400, -0.8500,  0.7500, -0.6800],\n",
       "         [ 0.6300,  0.7600,  0.1800, -0.0500],\n",
       "         [-0.0600, -0.5300,  0.4300,  0.0900],\n",
       "         [ 0.1200,  0.3700,  0.8500,  0.7700],\n",
       "         [ 0.9700, -0.7100, -0.8600,  0.5600],\n",
       "         [-0.8600,  0.4100, -0.1900,  0.2100],\n",
       "         [ 0.8400, -0.3900, -0.5300, -0.9800]],\n",
       "\n",
       "        [[-0.5900, -0.2000, -0.5900, -0.6100],\n",
       "         [-0.8200,  0.0000, -0.4700, -0.0700],\n",
       "         [ 0.4400, -0.8200,  0.3000,  0.5300],\n",
       "         [-0.8300, -0.9900, -0.0900, -0.3900],\n",
       "         [ 0.0500,  0.2600,  0.4100,  0.7100],\n",
       "         [-0.7700,  0.8600,  0.5600, -0.1300],\n",
       "         [-0.4100, -0.9900, -0.0300,  0.1800],\n",
       "         [-0.5600,  0.2300,  0.1000, -0.9500],\n",
       "         [-0.5600,  0.7400,  0.6300,  0.2300],\n",
       "         [ 0.8300, -0.9500, -0.8200, -0.3200],\n",
       "         [ 0.0200,  0.2500,  0.9700, -0.4100],\n",
       "         [-0.4300,  0.7500, -0.2100, -0.7600]]])"
      ]
     },
     "execution_count": 66,
     "metadata": {},
     "output_type": "execute_result"
    }
   ],
   "source": [
    "tensor = tensor.view(2, 12, 4).float()\n",
    "tensor"
   ]
  },
  {
   "cell_type": "code",
   "execution_count": 67,
   "metadata": {},
   "outputs": [
    {
     "data": {
      "text/plain": [
       "tensor([[[0.4626, 0.3186, 0.4725, 0.5250],\n",
       "         [0.7738, 0.6921, 0.6248, 0.4428],\n",
       "         [0.2010, 0.5622, 0.2670, 0.2193],\n",
       "         [0.7251, 0.7446, 0.7109, 0.6225],\n",
       "         [0.4452, 0.6525, 0.2279, 0.2059],\n",
       "         [0.8191, 0.1532, 0.5474, 0.3659],\n",
       "         [0.7388, 0.8520, 0.5523, 0.4428],\n",
       "         [0.6225, 0.3186, 0.5818, 0.7388],\n",
       "         [0.6637, 0.4085, 0.5548, 0.6318],\n",
       "         [0.5349, 0.5597, 0.4900, 0.7068],\n",
       "         [0.2932, 0.5399, 0.2387, 0.6502],\n",
       "         [0.7807, 0.2423, 0.4207, 0.4452]],\n",
       "\n",
       "        [[0.5374, 0.6814, 0.5275, 0.4750],\n",
       "         [0.2262, 0.3079, 0.3752, 0.5572],\n",
       "         [0.7990, 0.4378, 0.7330, 0.7807],\n",
       "         [0.2749, 0.2554, 0.2891, 0.3775],\n",
       "         [0.5548, 0.3475, 0.7721, 0.7941],\n",
       "         [0.1809, 0.8468, 0.4526, 0.6341],\n",
       "         [0.2612, 0.1480, 0.4477, 0.5572],\n",
       "         [0.3775, 0.6814, 0.4182, 0.2612],\n",
       "         [0.3363, 0.5915, 0.4452, 0.3682],\n",
       "         [0.4651, 0.4403, 0.5100, 0.2932],\n",
       "         [0.7068, 0.4601, 0.7613, 0.3498],\n",
       "         [0.2193, 0.7577, 0.5793, 0.5548]]])"
      ]
     },
     "execution_count": 67,
     "metadata": {},
     "output_type": "execute_result"
    }
   ],
   "source": [
    "out = F.softmax(tensor, dim=0)\n",
    "out"
   ]
  },
  {
   "cell_type": "code",
   "execution_count": 68,
   "metadata": {},
   "outputs": [
    {
     "data": {
      "text/plain": [
       "tensor([[[0.4626, 0.3186, 0.4725, 0.5250],\n",
       "         [0.7738, 0.6921, 0.6248, 0.4428],\n",
       "         [0.2010, 0.5622, 0.2670, 0.2193],\n",
       "         [0.7251, 0.7446, 0.7109, 0.6225]],\n",
       "\n",
       "        [[0.4452, 0.6525, 0.2279, 0.2059],\n",
       "         [0.8191, 0.1532, 0.5474, 0.3659],\n",
       "         [0.7388, 0.8520, 0.5523, 0.4428],\n",
       "         [0.6225, 0.3186, 0.5818, 0.7388]],\n",
       "\n",
       "        [[0.6637, 0.4085, 0.5548, 0.6318],\n",
       "         [0.5349, 0.5597, 0.4900, 0.7068],\n",
       "         [0.2932, 0.5399, 0.2387, 0.6502],\n",
       "         [0.7807, 0.2423, 0.4207, 0.4452]],\n",
       "\n",
       "        [[0.5374, 0.6814, 0.5275, 0.4750],\n",
       "         [0.2262, 0.3079, 0.3752, 0.5572],\n",
       "         [0.7990, 0.4378, 0.7330, 0.7807],\n",
       "         [0.2749, 0.2554, 0.2891, 0.3775]],\n",
       "\n",
       "        [[0.5548, 0.3475, 0.7721, 0.7941],\n",
       "         [0.1809, 0.8468, 0.4526, 0.6341],\n",
       "         [0.2612, 0.1480, 0.4477, 0.5572],\n",
       "         [0.3775, 0.6814, 0.4182, 0.2612]],\n",
       "\n",
       "        [[0.3363, 0.5915, 0.4452, 0.3682],\n",
       "         [0.4651, 0.4403, 0.5100, 0.2932],\n",
       "         [0.7068, 0.4601, 0.7613, 0.3498],\n",
       "         [0.2193, 0.7577, 0.5793, 0.5548]]])"
      ]
     },
     "execution_count": 68,
     "metadata": {},
     "output_type": "execute_result"
    }
   ],
   "source": [
    "out.view(6, 4, 4)"
   ]
  },
  {
   "cell_type": "code",
   "execution_count": 69,
   "metadata": {},
   "outputs": [
    {
     "data": {
      "text/plain": [
       "tensor([[[0.4626, 0.4452, 0.6637, 0.5374, 0.5548, 0.3363],\n",
       "         [0.3186, 0.6525, 0.4085, 0.6814, 0.3475, 0.5915],\n",
       "         [0.4725, 0.2279, 0.5548, 0.5275, 0.7721, 0.4452],\n",
       "         [0.5250, 0.2059, 0.6318, 0.4750, 0.7941, 0.3682]],\n",
       "\n",
       "        [[0.7738, 0.8191, 0.5349, 0.2262, 0.1809, 0.4651],\n",
       "         [0.6921, 0.1532, 0.5597, 0.3079, 0.8468, 0.4403],\n",
       "         [0.6248, 0.5474, 0.4900, 0.3752, 0.4526, 0.5100],\n",
       "         [0.4428, 0.3659, 0.7068, 0.5572, 0.6341, 0.2932]],\n",
       "\n",
       "        [[0.2010, 0.7388, 0.2932, 0.7990, 0.2612, 0.7068],\n",
       "         [0.5622, 0.8520, 0.5399, 0.4378, 0.1480, 0.4601],\n",
       "         [0.2670, 0.5523, 0.2387, 0.7330, 0.4477, 0.7613],\n",
       "         [0.2193, 0.4428, 0.6502, 0.7807, 0.5572, 0.3498]],\n",
       "\n",
       "        [[0.7251, 0.6225, 0.7807, 0.2749, 0.3775, 0.2193],\n",
       "         [0.7446, 0.3186, 0.2423, 0.2554, 0.6814, 0.7577],\n",
       "         [0.7109, 0.5818, 0.4207, 0.2891, 0.4182, 0.5793],\n",
       "         [0.6225, 0.7388, 0.4452, 0.3775, 0.2612, 0.5548]]])"
      ]
     },
     "execution_count": 69,
     "metadata": {},
     "output_type": "execute_result"
    }
   ],
   "source": [
    "oout = out.view(6, 4, 4).permute(1, 2, 0)\n",
    "oout"
   ]
  },
  {
   "cell_type": "code",
   "execution_count": 77,
   "metadata": {},
   "outputs": [
    {
     "data": {
      "text/plain": [
       "(torch.Size([4, 4, 6]), torch.Size([4, 4]))"
      ]
     },
     "execution_count": 77,
     "metadata": {},
     "output_type": "execute_result"
    }
   ],
   "source": [
    "oout.shape, oout[:,:,0].shape"
   ]
  },
  {
   "cell_type": "code",
   "execution_count": 78,
   "metadata": {},
   "outputs": [
    {
     "data": {
      "text/plain": [
       "tensor([[0.4626, 0.3186, 0.4725, 0.5250],\n",
       "        [0.7738, 0.6921, 0.6248, 0.4428],\n",
       "        [0.2010, 0.5622, 0.2670, 0.2193],\n",
       "        [0.7251, 0.7446, 0.7109, 0.6225]])"
      ]
     },
     "execution_count": 78,
     "metadata": {},
     "output_type": "execute_result"
    }
   ],
   "source": [
    "oout[:,:,0]"
   ]
  },
  {
   "cell_type": "code",
   "execution_count": 83,
   "metadata": {},
   "outputs": [
    {
     "data": {
      "text/plain": [
       "tensor([[[0.8622, 0.8400, 0.4913, 0.3642],\n",
       "         [0.1378, 0.1600, 0.5087, 0.6358]],\n",
       "\n",
       "        [[0.1939, 0.4151, 0.7576, 0.2205],\n",
       "         [0.8061, 0.5849, 0.2424, 0.7795]],\n",
       "\n",
       "        [[0.5693, 0.1876, 0.7592, 0.4370],\n",
       "         [0.4307, 0.8124, 0.2408, 0.5630]]])"
      ]
     },
     "execution_count": 83,
     "metadata": {},
     "output_type": "execute_result"
    }
   ],
   "source": [
    "tensor1 = torch.randn(3, 2, 4)\n",
    "out1 = F.softmax(tensor1, dim=1)\n",
    "out1"
   ]
  },
  {
   "cell_type": "code",
   "execution_count": 84,
   "metadata": {},
   "outputs": [
    {
     "data": {
      "text/plain": [
       "(tensor(4.), tensor(23.2094))"
      ]
     },
     "execution_count": 84,
     "metadata": {},
     "output_type": "execute_result"
    }
   ],
   "source": [
    "out1[1].sum(), out[1].sum()"
   ]
  },
  {
   "cell_type": "code",
   "execution_count": 89,
   "metadata": {},
   "outputs": [
    {
     "data": {
      "text/plain": [
       "tensor([[0.8622, 0.8400, 0.4913, 0.3642, 0.1378, 0.1600, 0.5087, 0.6358, 0.1939,\n",
       "         0.4151, 0.7576, 0.2205, 0.8061, 0.5849, 0.2424, 0.7795, 0.5693, 0.1876,\n",
       "         0.7592, 0.4370, 0.4307, 0.8124, 0.2408, 0.5630]])"
      ]
     },
     "execution_count": 89,
     "metadata": {},
     "output_type": "execute_result"
    }
   ],
   "source": [
    "out1.view(1,-1)"
   ]
  },
  {
   "cell_type": "code",
   "execution_count": 92,
   "metadata": {},
   "outputs": [
    {
     "data": {
      "text/plain": [
       "(torch.Size([3, 2, 4]),\n",
       " tensor([[[0.8622, 0.8400, 0.4913, 0.3642],\n",
       "          [0.1378, 0.1600, 0.5087, 0.6358]],\n",
       " \n",
       "         [[0.1939, 0.4151, 0.7576, 0.2205],\n",
       "          [0.8061, 0.5849, 0.2424, 0.7795]],\n",
       " \n",
       "         [[0.5693, 0.1876, 0.7592, 0.4370],\n",
       "          [0.4307, 0.8124, 0.2408, 0.5630]]]),\n",
       " torch.Size([3, 4]),\n",
       " torch.Size([1, 12]))"
      ]
     },
     "execution_count": 92,
     "metadata": {},
     "output_type": "execute_result"
    }
   ],
   "source": [
    "out1.shape, out1, out1[:, 0].shape, out1[:, 0].reshape(1,-1).shape"
   ]
  },
  {
   "cell_type": "code",
   "execution_count": 5,
   "metadata": {},
   "outputs": [
    {
     "data": {
      "text/plain": [
       "(tensor([ 0,  5, 10, 15]), tensor([ 0,  5, 10]))"
      ]
     },
     "execution_count": 5,
     "metadata": {},
     "output_type": "execute_result"
    }
   ],
   "source": [
    "feat_height, feat_width = 3, 4\n",
    "shift_x = torch.arange(0, feat_width) * 5\n",
    "shift_y = torch.arange(0, feat_height) * 5\n",
    "shift_x, shift_y"
   ]
  },
  {
   "cell_type": "code",
   "execution_count": 6,
   "metadata": {},
   "outputs": [
    {
     "data": {
      "text/plain": [
       "(tensor([[ 0,  5, 10, 15],\n",
       "         [ 0,  5, 10, 15],\n",
       "         [ 0,  5, 10, 15]]),\n",
       " tensor([[ 0,  0,  0,  0],\n",
       "         [ 5,  5,  5,  5],\n",
       "         [10, 10, 10, 10]]),\n",
       " torch.Size([3, 4]))"
      ]
     },
     "execution_count": 6,
     "metadata": {},
     "output_type": "execute_result"
    }
   ],
   "source": [
    "shift_x1, shift_y1 = torch.meshgrid(shift_x, shift_y, indexing='xy')\n",
    "shift_x1, shift_y1, shift_y1.shape"
   ]
  },
  {
   "cell_type": "code",
   "execution_count": 7,
   "metadata": {},
   "outputs": [
    {
     "data": {
      "text/plain": [
       "tensor([ 0,  5, 10, 15,  0,  5, 10, 15,  0,  5, 10, 15])"
      ]
     },
     "execution_count": 7,
     "metadata": {},
     "output_type": "execute_result"
    }
   ],
   "source": [
    "shift_x1.flatten()"
   ]
  },
  {
   "cell_type": "code",
   "execution_count": 8,
   "metadata": {},
   "outputs": [
    {
     "data": {
      "text/plain": [
       "(tensor([[ 0,  0,  0],\n",
       "         [ 5,  5,  5],\n",
       "         [10, 10, 10],\n",
       "         [15, 15, 15]]),\n",
       " tensor([[ 0,  5, 10],\n",
       "         [ 0,  5, 10],\n",
       "         [ 0,  5, 10],\n",
       "         [ 0,  5, 10]]),\n",
       " torch.Size([4, 3]))"
      ]
     },
     "execution_count": 8,
     "metadata": {},
     "output_type": "execute_result"
    }
   ],
   "source": [
    "shift_x1, shift_y1 = torch.meshgrid(shift_x, shift_y, indexing='ij')\n",
    "shift_x1, shift_y1, shift_y1.shape"
   ]
  },
  {
   "cell_type": "code",
   "execution_count": 9,
   "metadata": {},
   "outputs": [
    {
     "data": {
      "text/plain": [
       "[tensor([ 0,  0,  0,  5,  5,  5, 10, 10, 10, 15, 15, 15]),\n",
       " tensor([ 0,  0,  0,  5,  5,  5, 10, 10, 10, 15, 15, 15]),\n",
       " tensor([ 0,  0,  0,  5,  5,  5, 10, 10, 10, 15, 15, 15]),\n",
       " tensor([ 0,  0,  0,  5,  5,  5, 10, 10, 10, 15, 15, 15])]"
      ]
     },
     "execution_count": 9,
     "metadata": {},
     "output_type": "execute_result"
    }
   ],
   "source": [
    "[shift_x1.flatten()] * 4"
   ]
  },
  {
   "cell_type": "code",
   "execution_count": 10,
   "metadata": {},
   "outputs": [
    {
     "name": "stdout",
     "output_type": "stream",
     "text": [
      "tensor([[ 0,  6, 12, 18],\n",
      "        [ 0,  6, 12, 18],\n",
      "        [ 0,  6, 12, 18]]) \n",
      " tensor([[ 0,  0,  0,  0],\n",
      "        [ 6,  6,  6,  6],\n",
      "        [12, 12, 12, 12]])\n"
     ]
    },
    {
     "data": {
      "text/plain": [
       "(tensor([[ 0,  6, 12, 18,  0,  6, 12, 18,  0,  6, 12, 18],\n",
       "         [ 0,  0,  0,  0,  6,  6,  6,  6, 12, 12, 12, 12],\n",
       "         [ 0,  6, 12, 18,  0,  6, 12, 18,  0,  6, 12, 18],\n",
       "         [ 0,  0,  0,  0,  6,  6,  6,  6, 12, 12, 12, 12]]),\n",
       " tensor([[ 0,  0,  0,  0],\n",
       "         [ 6,  0,  6,  0],\n",
       "         [12,  0, 12,  0],\n",
       "         [18,  0, 18,  0],\n",
       "         [ 0,  6,  0,  6],\n",
       "         [ 6,  6,  6,  6],\n",
       "         [12,  6, 12,  6],\n",
       "         [18,  6, 18,  6],\n",
       "         [ 0, 12,  0, 12],\n",
       "         [ 6, 12,  6, 12],\n",
       "         [12, 12, 12, 12],\n",
       "         [18, 12, 18, 12]]))"
      ]
     },
     "execution_count": 10,
     "metadata": {},
     "output_type": "execute_result"
    }
   ],
   "source": [
    "feat_height, feat_width = 3, 4\n",
    "# feature stride !in origin image!\n",
    "shift_x, shift_y = torch.arange(0, feat_width) * 6,\\\n",
    "    torch.arange(0, feat_height) * 6\n",
    "# meshrgid: from [1, N] and [1, K] -> [K, N] if \"xy\" or [N, K] if \"ij\" like:\n",
    "shift_x, shift_y = torch.meshgrid(shift_x, shift_y, indexing='xy')\n",
    "print(shift_x,'\\n', shift_y)\n",
    "# flatten: from [N, K] to [1, N*K]\n",
    "shifts = torch.vstack([\n",
    "    shift_x.flatten(), shift_y.flatten(),\n",
    "    shift_x.flatten(), shift_y.flatten()])\n",
    "shifts, shifts.T"
   ]
  },
  {
   "cell_type": "code",
   "execution_count": 21,
   "metadata": {},
   "outputs": [],
   "source": [
    "shifts = shifts.T"
   ]
  },
  {
   "cell_type": "code",
   "execution_count": 23,
   "metadata": {},
   "outputs": [
    {
     "data": {
      "text/plain": [
       "tensor([[[ 0,  0,  0,  0]],\n",
       "\n",
       "        [[ 6,  0,  6,  0]],\n",
       "\n",
       "        [[12,  0, 12,  0]],\n",
       "\n",
       "        [[18,  0, 18,  0]],\n",
       "\n",
       "        [[ 0,  6,  0,  6]],\n",
       "\n",
       "        [[ 6,  6,  6,  6]],\n",
       "\n",
       "        [[12,  6, 12,  6]],\n",
       "\n",
       "        [[18,  6, 18,  6]],\n",
       "\n",
       "        [[ 0, 12,  0, 12]],\n",
       "\n",
       "        [[ 6, 12,  6, 12]],\n",
       "\n",
       "        [[12, 12, 12, 12]],\n",
       "\n",
       "        [[18, 12, 18, 12]]])"
      ]
     },
     "execution_count": 23,
     "metadata": {},
     "output_type": "execute_result"
    }
   ],
   "source": [
    "shifts.view(-1, 1 , 4)"
   ]
  },
  {
   "cell_type": "code",
   "execution_count": 15,
   "metadata": {},
   "outputs": [
    {
     "data": {
      "text/plain": [
       "(tensor([[[0, 1],\n",
       "          [2, 3],\n",
       "          [4, 5]]]),\n",
       " tensor([[[0, 1]],\n",
       " \n",
       "         [[2, 3]],\n",
       " \n",
       "         [[4, 5]],\n",
       " \n",
       "         [[6, 7]]]))"
      ]
     },
     "execution_count": 15,
     "metadata": {},
     "output_type": "execute_result"
    }
   ],
   "source": [
    "K = torch.arange(0, 6).view(1, 3, 2)\n",
    "A = torch.arange(0, 8).view(4, 1, 2)\n",
    "K, A"
   ]
  },
  {
   "cell_type": "code",
   "execution_count": 16,
   "metadata": {},
   "outputs": [
    {
     "data": {
      "text/plain": [
       "(tensor([[[ 0,  2],\n",
       "          [ 2,  4],\n",
       "          [ 4,  6]],\n",
       " \n",
       "         [[ 2,  4],\n",
       "          [ 4,  6],\n",
       "          [ 6,  8]],\n",
       " \n",
       "         [[ 4,  6],\n",
       "          [ 6,  8],\n",
       "          [ 8, 10]],\n",
       " \n",
       "         [[ 6,  8],\n",
       "          [ 8, 10],\n",
       "          [10, 12]]]),\n",
       " torch.Size([4, 3, 2]))"
      ]
     },
     "execution_count": 16,
     "metadata": {},
     "output_type": "execute_result"
    }
   ],
   "source": [
    "(K + A), (K + A).size()"
   ]
  },
  {
   "cell_type": "code",
   "execution_count": 20,
   "metadata": {},
   "outputs": [
    {
     "data": {
      "text/plain": [
       "tensor([[[0, 2],\n",
       "         [2, 4],\n",
       "         [4, 6]]])"
      ]
     },
     "execution_count": 20,
     "metadata": {},
     "output_type": "execute_result"
    }
   ],
   "source": [
    "K + A[0]"
   ]
  },
  {
   "cell_type": "code",
   "execution_count": 13,
   "metadata": {},
   "outputs": [],
   "source": [
    "from faster.rpn import bbox_transform_inv "
   ]
  },
  {
   "cell_type": "code",
   "execution_count": 14,
   "metadata": {},
   "outputs": [],
   "source": [
    "batch_size, feat_h, feat_w, num_Anchors = 4, 20, 30, 9\n",
    "anchors = torch.randn([batch_size, feat_h*feat_w*num_Anchors, 4])\n",
    "delta_bboxes = torch.randn([batch_size, feat_h*feat_w*9, 4])\n",
    "res = bbox_transform_inv(anchors, delta_bboxes, batch_size)"
   ]
  },
  {
   "cell_type": "code",
   "execution_count": 15,
   "metadata": {},
   "outputs": [
    {
     "data": {
      "text/plain": [
       "torch.Size([4, 5400, 4])"
      ]
     },
     "execution_count": 15,
     "metadata": {},
     "output_type": "execute_result"
    }
   ],
   "source": [
    "res.shape"
   ]
  },
  {
   "cell_type": "code",
   "execution_count": 21,
   "metadata": {},
   "outputs": [
    {
     "data": {
      "text/plain": [
       "(tensor([[[ 0,  1,  2,  3],\n",
       "          [ 4,  5,  6,  7],\n",
       "          [ 8,  9, 10, 11],\n",
       "          [12, 13, 14, 15],\n",
       "          [16, 17, 18, 19],\n",
       "          [20, 21, 22, 23],\n",
       "          [24, 25, 26, 27],\n",
       "          [28, 29, 30, 31],\n",
       "          [32, 33, 34, 35]]]),\n",
       " torch.Size([1, 9, 4]),\n",
       " tensor([[[ 0,  1,  2,  3]],\n",
       " \n",
       "         [[ 4,  5,  6,  7]],\n",
       " \n",
       "         [[ 8,  9, 10, 11]],\n",
       " \n",
       "         [[12, 13, 14, 15]],\n",
       " \n",
       "         [[16, 17, 18, 19]],\n",
       " \n",
       "         [[20, 21, 22, 23]],\n",
       " \n",
       "         [[24, 25, 26, 27]],\n",
       " \n",
       "         [[28, 29, 30, 31]],\n",
       " \n",
       "         [[32, 33, 34, 35]],\n",
       " \n",
       "         [[36, 37, 38, 39]]]),\n",
       " torch.Size([10, 1, 4]))"
      ]
     },
     "execution_count": 21,
     "metadata": {},
     "output_type": "execute_result"
    }
   ],
   "source": [
    "K, A = torch.arange(0, 36).view(1, 9, 4), torch.torch.arange(0, 40).view(10, 1, 4)\n",
    "K, K.shape, A, A.shape "
   ]
  },
  {
   "cell_type": "code",
   "execution_count": 22,
   "metadata": {},
   "outputs": [
    {
     "data": {
      "text/plain": [
       "(tensor([[[ 0,  2,  4,  6],\n",
       "          [ 4,  6,  8, 10],\n",
       "          [ 8, 10, 12, 14],\n",
       "          [12, 14, 16, 18],\n",
       "          [16, 18, 20, 22],\n",
       "          [20, 22, 24, 26],\n",
       "          [24, 26, 28, 30],\n",
       "          [28, 30, 32, 34],\n",
       "          [32, 34, 36, 38]],\n",
       " \n",
       "         [[ 4,  6,  8, 10],\n",
       "          [ 8, 10, 12, 14],\n",
       "          [12, 14, 16, 18],\n",
       "          [16, 18, 20, 22],\n",
       "          [20, 22, 24, 26],\n",
       "          [24, 26, 28, 30],\n",
       "          [28, 30, 32, 34],\n",
       "          [32, 34, 36, 38],\n",
       "          [36, 38, 40, 42]],\n",
       " \n",
       "         [[ 8, 10, 12, 14],\n",
       "          [12, 14, 16, 18],\n",
       "          [16, 18, 20, 22],\n",
       "          [20, 22, 24, 26],\n",
       "          [24, 26, 28, 30],\n",
       "          [28, 30, 32, 34],\n",
       "          [32, 34, 36, 38],\n",
       "          [36, 38, 40, 42],\n",
       "          [40, 42, 44, 46]],\n",
       " \n",
       "         [[12, 14, 16, 18],\n",
       "          [16, 18, 20, 22],\n",
       "          [20, 22, 24, 26],\n",
       "          [24, 26, 28, 30],\n",
       "          [28, 30, 32, 34],\n",
       "          [32, 34, 36, 38],\n",
       "          [36, 38, 40, 42],\n",
       "          [40, 42, 44, 46],\n",
       "          [44, 46, 48, 50]],\n",
       " \n",
       "         [[16, 18, 20, 22],\n",
       "          [20, 22, 24, 26],\n",
       "          [24, 26, 28, 30],\n",
       "          [28, 30, 32, 34],\n",
       "          [32, 34, 36, 38],\n",
       "          [36, 38, 40, 42],\n",
       "          [40, 42, 44, 46],\n",
       "          [44, 46, 48, 50],\n",
       "          [48, 50, 52, 54]],\n",
       " \n",
       "         [[20, 22, 24, 26],\n",
       "          [24, 26, 28, 30],\n",
       "          [28, 30, 32, 34],\n",
       "          [32, 34, 36, 38],\n",
       "          [36, 38, 40, 42],\n",
       "          [40, 42, 44, 46],\n",
       "          [44, 46, 48, 50],\n",
       "          [48, 50, 52, 54],\n",
       "          [52, 54, 56, 58]],\n",
       " \n",
       "         [[24, 26, 28, 30],\n",
       "          [28, 30, 32, 34],\n",
       "          [32, 34, 36, 38],\n",
       "          [36, 38, 40, 42],\n",
       "          [40, 42, 44, 46],\n",
       "          [44, 46, 48, 50],\n",
       "          [48, 50, 52, 54],\n",
       "          [52, 54, 56, 58],\n",
       "          [56, 58, 60, 62]],\n",
       " \n",
       "         [[28, 30, 32, 34],\n",
       "          [32, 34, 36, 38],\n",
       "          [36, 38, 40, 42],\n",
       "          [40, 42, 44, 46],\n",
       "          [44, 46, 48, 50],\n",
       "          [48, 50, 52, 54],\n",
       "          [52, 54, 56, 58],\n",
       "          [56, 58, 60, 62],\n",
       "          [60, 62, 64, 66]],\n",
       " \n",
       "         [[32, 34, 36, 38],\n",
       "          [36, 38, 40, 42],\n",
       "          [40, 42, 44, 46],\n",
       "          [44, 46, 48, 50],\n",
       "          [48, 50, 52, 54],\n",
       "          [52, 54, 56, 58],\n",
       "          [56, 58, 60, 62],\n",
       "          [60, 62, 64, 66],\n",
       "          [64, 66, 68, 70]],\n",
       " \n",
       "         [[36, 38, 40, 42],\n",
       "          [40, 42, 44, 46],\n",
       "          [44, 46, 48, 50],\n",
       "          [48, 50, 52, 54],\n",
       "          [52, 54, 56, 58],\n",
       "          [56, 58, 60, 62],\n",
       "          [60, 62, 64, 66],\n",
       "          [64, 66, 68, 70],\n",
       "          [68, 70, 72, 74]]]),\n",
       " torch.Size([10, 9, 4]))"
      ]
     },
     "execution_count": 22,
     "metadata": {},
     "output_type": "execute_result"
    }
   ],
   "source": [
    "K + A, (K + A).shape"
   ]
  },
  {
   "cell_type": "code",
   "execution_count": 24,
   "metadata": {},
   "outputs": [
    {
     "data": {
      "text/plain": [
       "tensor([[[ 5,  6,  7,  8],\n",
       "         [ 9, 10, 11, 12]],\n",
       "\n",
       "        [[13, 14, 15, 16],\n",
       "         [17, 18, 19, 20]],\n",
       "\n",
       "        [[21, 22, 23, 24],\n",
       "         [25, 26, 27, 28]]])"
      ]
     },
     "execution_count": 24,
     "metadata": {},
     "output_type": "execute_result"
    }
   ],
   "source": [
    "# tensor = torch.arange(0, 24).view(3, 2, 4) + 5\n",
    "tensor = torch.randint().view(3, 2, 4) + 5\n",
    "tensor"
   ]
  },
  {
   "cell_type": "code",
   "execution_count": 25,
   "metadata": {},
   "outputs": [
    {
     "data": {
      "text/plain": [
       "tensor([[1, 1, 1, 1],\n",
       "        [1, 1, 1, 1],\n",
       "        [1, 1, 1, 1]])"
      ]
     },
     "execution_count": 25,
     "metadata": {},
     "output_type": "execute_result"
    }
   ],
   "source": [
    "tensor.argmax(dim=1)"
   ]
  },
  {
   "cell_type": "code",
   "execution_count": null,
   "metadata": {},
   "outputs": [],
   "source": [
    "# keep original order?\n",
    "# save 3 max area values? \n",
    "# берем каждый из свобождных, argmax вычитаем из overlaps\n",
    "# постепенно поднимать отсечение - ибо может сойтись к такому margin\n",
    "# допустим NMS - это хорошо, \n",
    "# что если усреднять ближайшие слои якорей свёркти\n",
    "# между собой и тем самым уменьшать кол-во якорей на инференсе - условно адаптивный якорь \n",
    "# получаем.сначала маленький батч сайз, но много якорей, \n",
    "# а затем большой батч и мало якорей\n",
    "# проверка, все ли gt boxes попали в output после NMS"
   ]
  },
  {
   "cell_type": "code",
   "execution_count": null,
   "metadata": {},
   "outputs": [],
   "source": [
    "for gt in "
   ]
  }
 ],
 "metadata": {
  "kernelspec": {
   "display_name": "Python 3.10.6 ('geo')",
   "language": "python",
   "name": "python3"
  },
  "language_info": {
   "codemirror_mode": {
    "name": "ipython",
    "version": 3
   },
   "file_extension": ".py",
   "mimetype": "text/x-python",
   "name": "python",
   "nbconvert_exporter": "python",
   "pygments_lexer": "ipython3",
   "version": "3.10.6"
  },
  "orig_nbformat": 4,
  "vscode": {
   "interpreter": {
    "hash": "69af19485ccd259f20d08d91c8b9e13943707c152c9e0686319dd8e8141c9bef"
   }
  }
 },
 "nbformat": 4,
 "nbformat_minor": 2
}
